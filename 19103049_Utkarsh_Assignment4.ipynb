{
 "cells": [
  {
   "cell_type": "markdown",
   "metadata": {},
   "source": [
    "## 1. Write a Python program\n",
    "### a) to read an entire text file.\n",
    "### b) Count the number of lines\n",
    "### c) Count the number of words\n",
    "### d) Count the number of characters"
   ]
  },
  {
   "cell_type": "code",
   "execution_count": null,
   "metadata": {},
   "outputs": [],
   "source": [
    "# opening file\n",
    "f = open(\"input.txt\", \"r\")\n",
    "s = f.read()\n",
    "line = 0\n",
    "words = 0\n",
    "chars = 0\n",
    "# interation over all characters\n",
    "for i in s:\n",
    "    # if it is new line character\n",
    "    if i == '\\n':\n",
    "        line+=1\n",
    "        words+=1\n",
    "    # if it is space\n",
    "    elif i == ' ':\n",
    "        words+=1\n",
    "    # else it is some character\n",
    "    else:\n",
    "        chars+=1\n",
    "print(\"Number of lines are:\", line + 1)\n",
    "print(\"Number of words are:\", words + 1)\n",
    "print(\"Number of characters are:\", chars)"
   ]
  },
  {
   "cell_type": "markdown",
   "metadata": {},
   "source": [
    "## 2. Write a Python program store the characters (from ques 1) into a list."
   ]
  },
  {
   "cell_type": "code",
   "execution_count": null,
   "metadata": {},
   "outputs": [],
   "source": [
    "l = []\n",
    "# iterating through all the characters and appending it to list\n",
    "for i in s:\n",
    "    if i != '\\n' and i != ' ':\n",
    "        l.append(i)\n",
    "print(l)"
   ]
  },
  {
   "cell_type": "markdown",
   "metadata": {},
   "source": [
    "## 3. Write a Python program to read a text file, replace the specified line by user with the user text.\n",
    "### Expected Input from user:\n",
    "###  &nbsp; File name\n",
    "###  &nbsp; Line No\n",
    "### &nbsp; New text you want to replace with"
   ]
  },
  {
   "cell_type": "code",
   "execution_count": null,
   "metadata": {},
   "outputs": [],
   "source": [
    "# opening file and reading contents\n",
    "file = input(\"Enter the file name: \")\n",
    "line_no = int(input(\"Enter the row number you want to replace: \"))\n",
    "text = input(\"Enter text you want to replace with: \")\n",
    "f = open(file, \"r\")\n",
    "lines = f.readlines()\n",
    "f.close()\n",
    "\n",
    "# checking if the line exists or not\n",
    "if len(lines) < line_no: \n",
    "    print(\"This line is not present in file. Try Again\")\n",
    "\n",
    "else:\n",
    "    # replacing the particular line\n",
    "    lines.remove(lines[line_no - 1])\n",
    "    lines.insert(line_no - 1, text)\n",
    "    lines[line_no - 1] += '\\n'\n",
    "\n",
    "    # finally adding it into the file\n",
    "    f = open(file, \"w+\")\n",
    "    for line in lines:\n",
    "        f.write(line)\n",
    "    f.write(\"Hello\")\n",
    "    f.close()\n"
   ]
  },
  {
   "cell_type": "markdown",
   "metadata": {},
   "source": [
    "## 4. Write a Python program to transform the contents of the file as one word in each line.\n",
    "### Example- This is a Python program for file handling\n",
    "### Output-This\n",
    "### is\n",
    "### a\n",
    "### Python\n",
    "### program\n",
    "### for\n",
    "### file\n",
    "### handling"
   ]
  },
  {
   "cell_type": "code",
   "execution_count": null,
   "metadata": {},
   "outputs": [],
   "source": [
    "# opening file\n",
    "f = open(\"input.txt\", \"r\")\n",
    "content = f.read()\n",
    "\n",
    "# storing each word in list \n",
    "words = content.split()\n",
    "for word in words:\n",
    "    print(word)"
   ]
  }
 ],
 "metadata": {
  "kernelspec": {
   "display_name": "Python 3",
   "language": "python",
   "name": "python3"
  },
  "language_info": {
   "codemirror_mode": {
    "name": "ipython",
    "version": 3
   },
   "file_extension": ".py",
   "mimetype": "text/x-python",
   "name": "python",
   "nbconvert_exporter": "python",
   "pygments_lexer": "ipython3",
   "version": "3.7.3"
  }
 },
 "nbformat": 4,
 "nbformat_minor": 2
}
