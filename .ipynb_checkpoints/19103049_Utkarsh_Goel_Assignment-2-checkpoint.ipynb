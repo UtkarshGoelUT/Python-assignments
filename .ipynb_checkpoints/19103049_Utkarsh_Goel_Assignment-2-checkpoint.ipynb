{
 "cells": [
  {
   "cell_type": "markdown",
   "metadata": {},
   "source": [
    "### Question 1:  Q1. Read the following code and answer the following parts:\n",
    "x1 = 10\n",
    "y1 = 10\n",
    "x2 = &#39;PEC UNIVERSITY&#39;\n",
    "y2 = &#39;PEC UNIVERSITY&#39;\n",
    "x3 = [1,5,3]\n",
    "y3 = [1,5,3]\n",
    "a) print(x1 is not y1)\n",
    "b) print(x2 is y2)\n",
    "c) print(x3 is y3)"
   ]
  },
  {
   "cell_type": "code",
   "execution_count": null,
   "metadata": {},
   "outputs": [],
   "source": [
    "x1 = 10\n",
    "y1 = 10\n",
    "x2 = \"PEC UNIVERSITY\"\n",
    "y2 = \"PEC UNIVERSITY\"\n",
    "x3 = [1,5,3]\n",
    "y3 = [1,5,3]\n",
    "print(x1 is not y1)\n",
    "print(x2 is y2)\n",
    "print(x3 is y3)"
   ]
  },
  {
   "cell_type": "markdown",
   "metadata": {},
   "source": [
    "### Question 2: Q2. x = &#39;Hello world&#39;\n",
    "y = {1:&#39;a&#39;,2:&#39;b&#39;}\n",
    "a) print(&#39;H&#39; in x)\n",
    "b) print(&#39;hello&#39; not in x)\n",
    "c) print(1 in y)\n",
    "d) print(&#39;a&#39; in y)"
   ]
  },
  {
   "cell_type": "code",
   "execution_count": null,
   "metadata": {},
   "outputs": [],
   "source": [
    "x = \"Hello world\"\n",
    "y = {1:\"a\",2:\"b\"}\n",
    "print(\"H\" in x)\n",
    "print(\"hello\" not in x)\n",
    "print(1 in y)\n",
    "print(\"a\" in y)"
   ]
  },
  {
   "cell_type": "markdown",
   "metadata": {},
   "source": [
    "### Question 3: Print the output for the following code:\n",
    "meal = &quot;Dinner&quot;\n",
    "money = 0\n",
    "\n",
    "if meal == &quot;Dinner&quot; or meal == &quot;Fruit&quot; and money &gt;= 2:\n",
    "print(&quot;Dinner being delivered&quot;)\n",
    "else:\n",
    "print(&quot;Can&#39;t deliver Dinner&quot;)"
   ]
  },
  {
   "cell_type": "code",
   "execution_count": null,
   "metadata": {},
   "outputs": [],
   "source": [
    "meal = \"Dinner\"\n",
    "money = 0\n",
    "\n",
    "if meal == \"Dinner\" or meal == \"Fruit\" and money >= 2:\n",
    "    print(\"Dinner being delivered\")\n",
    "else:\n",
    "    print(\"Can't deliver Dinner\")"
   ]
  },
  {
   "cell_type": "markdown",
   "metadata": {},
   "source": [
    "### Question 4: # Precedence of or &amp; and\n",
    "\n",
    "meal = &quot;Dinner&quot;\n",
    "\n",
    "money = 0\n",
    "\n",
    "if (meal == &quot;Dinner&quot; or meal == &quot;fruit&quot;) and money &gt;= 2:\n",
    "print(&quot;Dinner being delivered&quot;)\n",
    "else:\n",
    "print(&quot;Can&#39;t deliver dinner&quot;)"
   ]
  },
  {
   "cell_type": "code",
   "execution_count": null,
   "metadata": {},
   "outputs": [],
   "source": [
    "meal = \"Dinner\"\n",
    "\n",
    "money = 0\n",
    "\n",
    "if (meal == \"Dinner\" or meal == \"fruit\") and money >= 2:\n",
    "    print(\"Dinner being delivered\")\n",
    "else:\n",
    "    print(\"Can't deliver dinner\")"
   ]
  },
  {
   "cell_type": "markdown",
   "metadata": {},
   "source": [
    "### Question 5: Write the output for the following code:\n",
    "x = y = z = 5\n",
    "x = y = z+= 5"
   ]
  },
  {
   "cell_type": "code",
   "execution_count": null,
   "metadata": {},
   "outputs": [],
   "source": [
    "x = y = z = 5\n",
    "x = y = z+= 5 #Invalid syntax"
   ]
  },
  {
   "cell_type": "markdown",
   "metadata": {},
   "source": [
    "### Question 6: Write a python program to add two binary numbers."
   ]
  },
  {
   "cell_type": "code",
   "execution_count": null,
   "metadata": {},
   "outputs": [],
   "source": [
    "num1 = input() #10101\n",
    "num2 = input() #   10\n",
    "ans = \"\"\n",
    "i = len(num1) - 1\n",
    "j = len(num2) - 1\n",
    "carry = 0\n",
    "\n",
    "#Handling uptil the point when string are of equal lenght\n",
    "while i >= 0 and j >= 0:\n",
    "    if num1[i] == \"1\" and num2[j] == '1':\n",
    "        if carry == 1:\n",
    "            ans += '1'\n",
    "        else:\n",
    "            ans += '0'\n",
    "            carry = 1\n",
    "    elif num1[i] == '1' or num2[j\n",
    "                               ] == '1':\n",
    "        if carry == 1:\n",
    "            ans += '0'\n",
    "        else:\n",
    "            ans += '1'\n",
    "    else:\n",
    "        if carry == 1:\n",
    "            ans += '1'\n",
    "            carry = 0\n",
    "        else:\n",
    "            ans += '0'\n",
    "    i-=1\n",
    "    j-=1\n",
    "    \n",
    "#If first string is bigger\n",
    "while i >= 0:\n",
    "    if num1[i] == '1':\n",
    "        if carry == 1:\n",
    "            ans += '0'\n",
    "            carry = 1\n",
    "        else:\n",
    "            ans += '1'\n",
    "    else:\n",
    "        if carry == 1:\n",
    "            ans += '1'\n",
    "            carry = 0\n",
    "        else:\n",
    "            ans += '0'\n",
    "    i-=1\n",
    "    \n",
    "#If second stirng is bigger\n",
    "while j >= 0:\n",
    "    if num2[j] == '1':\n",
    "        if carry == 1:\n",
    "            ans += '0'\n",
    "            carry = 1\n",
    "        else:\n",
    "            ans += '1'\n",
    "    else:\n",
    "        if carry == 1:\n",
    "            ans += '1'\n",
    "            carry = 0\n",
    "        else:\n",
    "            ans += '0'\n",
    "    j-=1\n",
    "    \n",
    "#If carry is still left\n",
    "if carry == 1:\n",
    "    ans += '1'\n",
    "    \n",
    "print(ans[::-1])"
   ]
  },
  {
   "cell_type": "markdown",
   "metadata": {},
   "source": [
    "### Question 7:Write a python program to convert decimal to binary number."
   ]
  },
  {
   "cell_type": "code",
   "execution_count": null,
   "metadata": {},
   "outputs": [],
   "source": [
    "num = int(input())\n",
    "ans = \"\"\n",
    "while num > 0:\n",
    "    ans += str(num % 2)\n",
    "    num = num // 2\n",
    "print(ans[::-1])"
   ]
  },
  {
   "cell_type": "markdown",
   "metadata": {},
   "source": [
    "### Question 8:Write a python program to check whether a given number is positive, negative or zero."
   ]
  },
  {
   "cell_type": "code",
   "execution_count": null,
   "metadata": {},
   "outputs": [],
   "source": [
    "num = int(input())\n",
    "if num > 0:\n",
    "    print('Positive')\n",
    "elif num < 0:\n",
    "    print('Negitive')\n",
    "else:\n",
    "    print('Zero')"
   ]
  },
  {
   "cell_type": "markdown",
   "metadata": {},
   "source": [
    "### Question 9:Write a python program to Check Vowel or Consonant."
   ]
  },
  {
   "cell_type": "code",
   "execution_count": null,
   "metadata": {},
   "outputs": [],
   "source": [
    "c = input()\n",
    "if c == \"A\" or c == \"E\" or c == \"I\" or c == \"O\" or c == \"U\" or c == \"a\" or c == \"e\" or c == \"i\" or c == \"o\" or c == \"u\":\n",
    "    print('Vowel')\n",
    "else:\n",
    "    print('Consonant')"
   ]
  },
  {
   "cell_type": "markdown",
   "metadata": {},
   "source": [
    "### Question 10:Write a python program to illustrate ternary operator."
   ]
  },
  {
   "cell_type": "code",
   "execution_count": null,
   "metadata": {},
   "outputs": [],
   "source": [
    "c = input()\n",
    "print('Vowel') if c == \"A\" or c == \"E\" or c == \"I\" or c == \"O\" or c == \"U\" or c == \"a\" or c == \"e\" or c == \"i\" or c == \"o\" or c == \"u\" else print('Consonant')"
   ]
  },
  {
   "cell_type": "code",
   "execution_count": null,
   "metadata": {},
   "outputs": [],
   "source": []
  }
 ],
 "metadata": {
  "kernelspec": {
   "display_name": "Python 3",
   "language": "python",
   "name": "python3"
  },
  "language_info": {
   "codemirror_mode": {
    "name": "ipython",
    "version": 3
   },
   "file_extension": ".py",
   "mimetype": "text/x-python",
   "name": "python",
   "nbconvert_exporter": "python",
   "pygments_lexer": "ipython3",
   "version": "3.7.3"
  }
 },
 "nbformat": 4,
 "nbformat_minor": 2
}
