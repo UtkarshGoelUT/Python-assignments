{
 "cells": [
  {
   "cell_type": "markdown",
   "metadata": {},
   "source": [
    "# Assignment 5\n",
    "## Name - Utkarsh\n",
    "## SID - 19103049"
   ]
  },
  {
   "cell_type": "markdown",
   "metadata": {},
   "source": [
    "1. Create an input array of size 5X5. Find the following:<br>\n",
    "a) Shape of the array<br>\n",
    "b) Length of each element of the array<br>\n",
    "c) Array of elements in the second column of each row<br>\n",
    "d) Create a new array having square of each item"
   ]
  },
  {
   "cell_type": "code",
   "execution_count": null,
   "metadata": {},
   "outputs": [],
   "source": [
    "import numpy as np\n",
    "arr = np.array([[1, 5, 6, 3, 4],\n",
    "                [4, 5, 3, 4, 3],\n",
    "                [4, 6, 7, 4, 4],\n",
    "                [7, 2, 7, 2, 2],\n",
    "                [5, 6, 4, 4, 5]])\n",
    "print(\"Shape of array is \", arr.shape)\n",
    "for i in range(len(arr)):\n",
    "    print(f\"Length of {i + 1}th element is { len(arr[i]) }\")\n",
    "print(\"Second column of each row is\", arr[:, 1])\n",
    "new_arr = arr ** 2\n",
    "print(\"New array with square of all number is\\n\", new_arr)"
   ]
  },
  {
   "cell_type": "markdown",
   "metadata": {},
   "source": [
    "2. Create a numpy array and print the array elements in the reverse order."
   ]
  },
  {
   "cell_type": "code",
   "execution_count": null,
   "metadata": {},
   "outputs": [],
   "source": [
    "l = np.array([1,5,5,2,4])\n",
    "print(\"Array in reverse order\", l[::-1])"
   ]
  },
  {
   "cell_type": "markdown",
   "metadata": {},
   "source": [
    "3. Create a user input list with 10 elements. Convert the list into numpy array of size<br>\n",
    "a) 5X5<br>\n",
    "b) 2X5<br>\n",
    "c) 5X2"
   ]
  },
  {
   "cell_type": "code",
   "execution_count": null,
   "metadata": {},
   "outputs": [],
   "source": [
    "arr = np.array(list(map(int, input(\"Enter the array: \").split())))\n",
    "arr.resize(5,5)\n",
    "print(arr)\n",
    "arr.resize(2,5)\n",
    "print(arr)\n",
    "arr.resize(5,2)\n",
    "print(arr)"
   ]
  },
  {
   "cell_type": "markdown",
   "metadata": {},
   "source": [
    "4. Create a numpy array of size nxm where n and m are user defined. Find the transpose\n",
    "of the array."
   ]
  },
  {
   "cell_type": "code",
   "execution_count": null,
   "metadata": {},
   "outputs": [],
   "source": [
    "n = int(input(\"Enter n: \"))\n",
    "m = int(input(\"Enter m: \"))\n",
    "l = []\n",
    "for i in range(m):\n",
    "    l.append(list(map(int, input(f\"Enter {i + 1}th row \").split())))\n",
    "arr = np.array(l)\n",
    "print(\"Transpose of array is \\n\",np.transpose(arr))"
   ]
  },
  {
   "cell_type": "markdown",
   "metadata": {},
   "source": [
    "5. Create two arrays and multiply the elements of the two arrays and display the new\n",
    "array."
   ]
  },
  {
   "cell_type": "code",
   "execution_count": null,
   "metadata": {},
   "outputs": [],
   "source": [
    "a1 = np.array([1,4,6,3])\n",
    "a2 = np.array([3,4,5,3])\n",
    "a = a1 * a2\n",
    "print(\"Array after multiplication\", a)"
   ]
  },
  {
   "cell_type": "markdown",
   "metadata": {},
   "source": [
    "6. Create a user input numpy array and perform the following:<br>\n",
    "a) Number of non-zero elements<br>\n",
    "b) Number of positive elements<br>\n",
    "c) No of negative elements<br>\n",
    "d) Negate the numbers that are in range (5,10). 5 and 10 both are included.<br>\n",
    "e) If the number is greater than 10, replace it with mod of 10.<br>\n",
    "f) Display the final array returned after performing d) and e) parts"
   ]
  },
  {
   "cell_type": "code",
   "execution_count": null,
   "metadata": {},
   "outputs": [],
   "source": [
    "arr = np.array(list(map(int, input().split())))\n",
    "print(\"Number of non-zero elements\", len(arr[arr != 0]))\n",
    "print(\"Number of positive elements\", len(arr[arr > 0]))\n",
    "print(\"Number of negative elements\", len(arr[arr < 0]))\n",
    "arr[5:11] *= -1 \n",
    "print(\"Number of negative elements in range(5, 10)\", arr)\n",
    "arr[arr > 10] %= 10\n",
    "print(\"If the number is greater than 10, replace it with mod of 10.\", arr)\n",
    "print(\"Final array\", arr)"
   ]
  }
 ],
 "metadata": {
  "kernelspec": {
   "display_name": "Python 3",
   "language": "python",
   "name": "python3"
  },
  "language_info": {
   "codemirror_mode": {
    "name": "ipython",
    "version": 3
   },
   "file_extension": ".py",
   "mimetype": "text/x-python",
   "name": "python",
   "nbconvert_exporter": "python",
   "pygments_lexer": "ipython3",
   "version": "3.7.3"
  }
 },
 "nbformat": 4,
 "nbformat_minor": 2
}
