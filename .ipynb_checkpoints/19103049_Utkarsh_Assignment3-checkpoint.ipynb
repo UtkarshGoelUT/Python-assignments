{
 "cells": [
  {
   "cell_type": "markdown",
   "metadata": {},
   "source": [
    "## 1. Create a function that takes two numbers as arguments (number, length) and returns a list of multiples of number up to length."
   ]
  },
  {
   "cell_type": "code",
   "execution_count": null,
   "metadata": {},
   "outputs": [],
   "source": [
    "def multiples(num, length):\n",
    "    ans = []\n",
    "    for i in range(1, length + 1):\n",
    "        ans.append(num * i)\n",
    "    return ans\n",
    "multiples(7, 5)"
   ]
  },
  {
   "cell_type": "markdown",
   "metadata": {},
   "source": [
    "## 2. Create a recursive function to find the solution of a b (a and b are arguments of recursive function)"
   ]
  },
  {
   "cell_type": "code",
   "execution_count": null,
   "metadata": {},
   "outputs": [],
   "source": [
    "def power(a, b):\n",
    "    if b == 0:\n",
    "        return 1\n",
    "    ans = power(a, b // 2)\n",
    "    if b % 2 == 1:\n",
    "        return ans * ans * a\n",
    "    else:\n",
    "        return ans * ans\n",
    "power(2, 10)"
   ]
  },
  {
   "cell_type": "markdown",
   "metadata": {},
   "source": [
    "## 3. Write a function to calculate factorial of a given number."
   ]
  },
  {
   "cell_type": "code",
   "execution_count": null,
   "metadata": {},
   "outputs": [],
   "source": [
    "def factorial(n):\n",
    "    if n == 1 or n == 0:\n",
    "        return 1\n",
    "    return n * factorial(n - 1)\n",
    "factorial(6)"
   ]
  },
  {
   "cell_type": "markdown",
   "metadata": {},
   "source": [
    "## 4. Write a function to accept a group of student’s age and find average age."
   ]
  },
  {
   "cell_type": "code",
   "execution_count": null,
   "metadata": {},
   "outputs": [],
   "source": [
    "def average(ages):\n",
    "    ans = 0\n",
    "    for i in ages:\n",
    "        ans += i\n",
    "    ans /= len(ages)\n",
    "    return ans\n",
    "average([1,4,51])"
   ]
  },
  {
   "cell_type": "markdown",
   "metadata": {},
   "source": [
    "## 5. Write a function to check if a given number is prime or not"
   ]
  },
  {
   "cell_type": "code",
   "execution_count": null,
   "metadata": {},
   "outputs": [],
   "source": [
    "def isPrime(n):\n",
    "    i = 2\n",
    "    while i * i <= n:\n",
    "        if n % i == 0:\n",
    "            return False\n",
    "        i+=1\n",
    "    return True\n",
    "isPrime(2)"
   ]
  },
  {
   "cell_type": "markdown",
   "metadata": {},
   "source": [
    "## 6. Write function that takes a list with two numbers in it and determines if the sum of the digits of the two numbers are equal to each other."
   ]
  },
  {
   "cell_type": "code",
   "execution_count": null,
   "metadata": {},
   "outputs": [],
   "source": [
    "def digitSum(a):\n",
    "    ans = 0\n",
    "    while a > 0:\n",
    "        ans += a % 10\n",
    "        a = a // 10\n",
    "    return ans\n",
    "\n",
    "def checkDigitSum(a, b):\n",
    "    return digitSum(a) == digitSum(b)\n",
    "checkDigitSum(105, 42)"
   ]
  }
 ],
 "metadata": {
  "kernelspec": {
   "display_name": "Python 3",
   "language": "python",
   "name": "python3"
  },
  "language_info": {
   "codemirror_mode": {
    "name": "ipython",
    "version": 3
   },
   "file_extension": ".py",
   "mimetype": "text/x-python",
   "name": "python",
   "nbconvert_exporter": "python",
   "pygments_lexer": "ipython3",
   "version": "3.7.3"
  }
 },
 "nbformat": 4,
 "nbformat_minor": 2
}
